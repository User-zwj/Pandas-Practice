{
 "cells": [
  {
   "cell_type": "markdown",
   "metadata": {},
   "source": [
    "# Topics\n",
    "## Read/ write/ display a data frame\n",
    "- pd.read_csv()\n",
    "- pd.DataFrame({'col1':[1,2,3], 'col2':[1,2,3]})\n",
    "- pd.options.display.max_rows = 10\n",
    "\n",
    "## Basic data frame summary\n",
    "- df.shape\n",
    "- df.columns\n",
    "- df.dropna(axis=0)\n",
    "- df.describe()\n",
    "- df.loc\n",
    "- df.iloc\n",
    "- df.count()\n",
    "- df.head()\n",
    "\n",
    "## Data Frame vs. Series\n",
    "\n",
    "## Groudby\n",
    "- hist()\n",
    "- plot.bar()\n",
    "[Reference](https://www.kaggle.com/learn-forum/60581)\n",
    "- MultiIndex \n",
    "[Reference](https://jakevdp.github.io/PythonDataScienceHandbook/03.05-hierarchical-indexing.html)\n",
    "\n",
    "## Merge\n",
    "\n",
    "## Misc\n",
    "- \\[index for index in aa if aa>1\\]\n",
    "- a=\\{x: function(x) for x in range\\}, min(a,key=a.get)\n",
    "- plot label rotation\n",
    "[Reference](https://www.drawingfromdata.com/how-to-rotate-axis-labels-in-seaborn-and-matplotlib)\n",
    "- datatime\n",
    "-  scikit-learn library \n",
    "   - from sklearn.tree import DecisionTreeRegressor\n",
    "   - model = DecisionTreeRegressor(random_state=1) \n",
    "   - model.fit(x,y)\n",
    "   - model.predict(xxx)\n",
    "   - from sklearn.metrics import mean_absolute_error\n",
    "   - from sklearn.model_selection import train_test_split\n",
    "- print format\n",
    "   - print(\"blah: %d\" %dataname)\n",
    "   - print(\"blah: {:,.0f}\".format(dataname))"
   ]
  },
  {
   "cell_type": "code",
   "execution_count": null,
   "metadata": {},
   "outputs": [],
   "source": []
  }
 ],
 "metadata": {
  "kernelspec": {
   "display_name": "Python 3",
   "language": "python",
   "name": "python3"
  },
  "language_info": {
   "codemirror_mode": {
    "name": "ipython",
    "version": 3
   },
   "file_extension": ".py",
   "mimetype": "text/x-python",
   "name": "python",
   "nbconvert_exporter": "python",
   "pygments_lexer": "ipython3",
   "version": "3.7.5"
  }
 },
 "nbformat": 4,
 "nbformat_minor": 2
}
