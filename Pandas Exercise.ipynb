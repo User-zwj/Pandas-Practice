{
 "cells": [
  {
   "cell_type": "markdown",
   "metadata": {},
   "source": [
    "# Topics\n",
    "## Read and write a data frame\n",
    "- pd.read_csv()\n",
    "- pd.DataFrame({'col1':[1,2,3], 'col2':[1,2,3]})\n",
    "\n",
    "## Basic data frame summary\n",
    "- df.shape\n",
    "- df.summary()\n",
    "- df.loc\n",
    "- df.iloc\n",
    "- df.count()\n",
    "- df.head()\n",
    "\n",
    "## Data Frame vs. Series\n",
    "\n",
    "## Groudby\n",
    "- hist()\n",
    "- plot.bar()\n",
    "\n",
    "## Merge\n",
    "\n",
    "## Misc\n",
    "- \\[index for index in aa if aa>1\\]"
   ]
  },
  {
   "cell_type": "code",
   "execution_count": null,
   "metadata": {},
   "outputs": [],
   "source": []
  }
 ],
 "metadata": {
  "kernelspec": {
   "display_name": "Python 3",
   "language": "python",
   "name": "python3"
  },
  "language_info": {
   "codemirror_mode": {
    "name": "ipython",
    "version": 3
   },
   "file_extension": ".py",
   "mimetype": "text/x-python",
   "name": "python",
   "nbconvert_exporter": "python",
   "pygments_lexer": "ipython3",
   "version": "3.7.5"
  }
 },
 "nbformat": 4,
 "nbformat_minor": 2
}
